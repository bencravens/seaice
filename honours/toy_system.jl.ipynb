{
 "cells": [
  {
   "cell_type": "code",
   "execution_count": 7,
   "metadata": {},
   "outputs": [
    {
     "data": {
      "text/plain": [
       "@Name (macro with 1 method)"
      ]
     },
     "execution_count": 7,
     "metadata": {},
     "output_type": "execute_result"
    }
   ],
   "source": [
    "#Importing all needed packages\n",
    "using PyPlot\n",
    "using Suppressor\n",
    "using Formatting\n",
    "import Pkg\n",
    "using Base\n",
    "\n",
    "#Defining custom macros\n",
    "#Making custom macro to get variable name as string for plots\n",
    "macro Name(arg)\n",
    "    string(arg)\n",
    "end"
   ]
  },
  {
   "cell_type": "code",
   "execution_count": 8,
   "metadata": {},
   "outputs": [
    {
     "data": {
      "text/plain": [
       "C_dwr (generic function with 1 method)"
      ]
     },
     "execution_count": 8,
     "metadata": {},
     "output_type": "execute_result"
    }
   ],
   "source": [
    "#= notebook I am using to calculate the momentum flux τ\n",
    "of an idealized ice floe with properties taken from the literature.\n",
    "I will calculate the momentum flux as a function of the form drag for\n",
    "sails and keels, floe edges, and the atmospheric and oceanic skin drag.\n",
    "=#\n",
    "\n",
    "#Defining constants at the start\n",
    "#Floe size(m) (Just looking at one floe so don't need this...)\n",
    "L = 10\n",
    "#Freeboard(m)\n",
    "H_f = 1\n",
    "#Draft(m) \n",
    "D = 1\n",
    "#Pond size(m). Note there are no ponds in Antarctica so set this to 0.\n",
    "L_p = 0\n",
    "#Ratio of keel depth and sail height (Worby (2008))\n",
    "R_h = 4.4\n",
    "#Ratio of average distance between keels and average distance between sails\n",
    "R_d = 1\n",
    "#weight variables of sails and keels (how many sails vs how many keels)\n",
    "#For now assuming there is an equal amount of each\n",
    "#α in Tsamados.. here naming W_s for weighting of sails\n",
    "W_s = 0.5\n",
    "#β in Tsamados... here naming W_k for weighting of keels\n",
    "W_k = 0.5\n",
    "#Slope of sails(rad) (Worby (2008))\n",
    "α_r = 0.45\n",
    "#Slope of keels(rad) (Worby (2008))\n",
    "α_k = 0.45\n",
    "#Attenuation parameter in sheltering function (given by Tsamados)\n",
    "s_l = 0.18\n",
    "#roughness length of level ice (given by CICE)\n",
    "z_oi = 5e-4\n",
    "#Ice concentration(fraction of 1.0)\n",
    "A = 0.5\n",
    "#Sail height(m) (Worby (2008))\n",
    "#H_s = 0.57\n",
    "#ratio of aice to ardg, Ridged ice area fraction\n",
    "R_f = 1/0.11\n",
    "#Coefficents c_ra and c_kw\n",
    "c_ra = 0.2\n",
    "c_kw = 0.2\n",
    "\n",
    "#Now defining geometric properties of the sails and keels that depend on the initial definition of H_s\n",
    "#H_s -> D_s & H_k & X_s\n",
    "#D_s -> D_k\n",
    "#H_k -> X_k\n",
    "\n",
    "#Distance between sails(m) (Taken from equation in Tsamados). aice/ardg = 0.11 as given in Worby(2008)\n",
    "D_s(H_s) = 2*H_s*R_f*(W_s/tan(α_r) + (W_k/tan(α_k))*(R_h/R_d))\n",
    "#Keel height(m)\n",
    "H_k(H_s) = R_h*H_s\n",
    "#Distance between keels(m)\n",
    "D_k(D_s) = R_d*D_s\n",
    "#Base width of sails(m)\n",
    "X_s(H_s) = (2*H_s)/(tan(α_r))\n",
    "#Base width of keels(m)\n",
    "X_k(H_k) = (2*H_k)/(tan(α_k))\n",
    "\n",
    "#now defining individual drag components\n",
    "#first sheltering function\n",
    "S_c(D,H) = (1-exp((-s_l*D)/H))^(0.5)\n",
    "#Now the form drag coefficent from sails\n",
    "C_dar(H_s,D_s) = 0.5*c_ra*S_c(D_s,H_s)^(2.0)*(H_s/D_s)*A*(log(H_s/z_oi)/log(10/z_oi))^(2.0)\n",
    "#Now the form drag coefficent from keels\n",
    "C_dwr(H_k,D_k) = 0.5*c_kw*S_c(D_k,H_k)^(2.0)*(H_k/D_k)*A*(log(H_k/z_oi)/log(10/z_oi))^(2.0)"
   ]
  },
  {
   "cell_type": "code",
   "execution_count": 19,
   "metadata": {},
   "outputs": [
    {
     "data": {
      "text/plain": [
       "plotdrag (generic function with 1 method)"
      ]
     },
     "execution_count": 19,
     "metadata": {},
     "output_type": "execute_result"
    }
   ],
   "source": [
    "#Now we want to vary H_s, see what happens to drag\n",
    "function plotdrag(H_s)\n",
    "    D_s_temp = [D_s(i) for i in H_s]\n",
    "    H_k_temp = [H_k(i) for i in H_s]\n",
    "    D_k_temp = [D_k(j) for j in D_s_temp]\n",
    "    # zip stores two arrays [\"a\",\"b\"] and [1,2] as [[\"a\",1],[\"b\",2]]\n",
    "    S_zip = zip(H_s,D_s_temp)\n",
    "    K_zip = zip(H_k_temp,D_k_temp)\n",
    "    totalsail = [C_dar(arr[1],arr[2]) for arr in S_zip]\n",
    "    totalkeel = [C_dwr(arr[1],arr[2]) for arr in K_zip]\n",
    "    totaldrag = totalsail + totalkeel\n",
    "    println(totaldrag)\n",
    "    #plot!(H_s,D_s_temp,totalkeel,st=:surface,label=\"Keels\")\n",
    "    #plot!(H_s,D_s_temp,totaldrag,st=:surface,label=\"Total\")\n",
    "end"
   ]
  },
  {
   "cell_type": "code",
   "execution_count": 20,
   "metadata": {
    "scrolled": true
   },
   "outputs": [
    {
     "name": "stdout",
     "output_type": "stream",
     "text": [
      "[0.00139344, 0.0014238, 0.00145225, 0.00147902, 0.00150432, 0.0015283, 0.0015511, 0.00157284, 0.00159363, 0.00161353, 0.00163264, 0.00165102, 0.00166871, 0.00168578, 0.00170227, 0.00171822, 0.00173367, 0.00174864, 0.00176318, 0.00177729, 0.00179102, 0.00180438, 0.00181739, 0.00183007, 0.00184243, 0.0018545, 0.00186629, 0.00187782, 0.00188908, 0.0019001, 0.00191089, 0.00192146, 0.00193181, 0.00194196, 0.00195191, 0.00196168, 0.00197126, 0.00198067, 0.00198991, 0.00199899, 0.00200792, 0.0020167, 0.00202533, 0.00203382, 0.00204218, 0.0020504, 0.0020585, 0.00206648, 0.00207434, 0.00208209]\n",
      "plot working\n"
     ]
    }
   ],
   "source": [
    "H_s_range = range(0.2,stop=1.0,length=50)\n",
    "\n",
    "plotdrag(H_s_range)\n",
    "savefig(\"testplot.png\")\n",
    "println(\"plot working\")"
   ]
  },
  {
   "cell_type": "code",
   "execution_count": 169,
   "metadata": {},
   "outputs": [
    {
     "ename": "PyCall.PyError",
     "evalue": "PyError ($(Expr(:escape, :(ccall(#= /home/ben/.julia/packages/PyCall/RQjD7/src/pyfncall.jl:44 =# @pysym(:PyObject_Call), PyPtr, (PyPtr, PyPtr, PyPtr), o, pyargsptr, kw))))) <class 'RuntimeError'>\nRuntimeError('Error in qhull Delaunay triangulation calculation: singular input data (exitcode=2); use python verbose option (-v) to see original qhull error.')\n  File \"/home/ben/.julia/conda/3/lib/python3.7/site-packages/mpl_toolkits/mplot3d/axes3d.py\", line 1945, in plot_trisurf\n    tri, args, kwargs = Triangulation.get_from_args_and_kwargs(*args, **kwargs)\n  File \"/home/ben/.julia/conda/3/lib/python3.7/site-packages/matplotlib/tri/triangulation.py\", line 167, in get_from_args_and_kwargs\n    triangulation = Triangulation(x, y, triangles, mask)\n  File \"/home/ben/.julia/conda/3/lib/python3.7/site-packages/matplotlib/tri/triangulation.py\", line 55, in __init__\n    self.triangles, self._neighbors = _qhull.delaunay(x, y)\n",
     "output_type": "error",
     "traceback": [
      "PyError ($(Expr(:escape, :(ccall(#= /home/ben/.julia/packages/PyCall/RQjD7/src/pyfncall.jl:44 =# @pysym(:PyObject_Call), PyPtr, (PyPtr, PyPtr, PyPtr), o, pyargsptr, kw))))) <class 'RuntimeError'>\nRuntimeError('Error in qhull Delaunay triangulation calculation: singular input data (exitcode=2); use python verbose option (-v) to see original qhull error.')\n  File \"/home/ben/.julia/conda/3/lib/python3.7/site-packages/mpl_toolkits/mplot3d/axes3d.py\", line 1945, in plot_trisurf\n    tri, args, kwargs = Triangulation.get_from_args_and_kwargs(*args, **kwargs)\n  File \"/home/ben/.julia/conda/3/lib/python3.7/site-packages/matplotlib/tri/triangulation.py\", line 167, in get_from_args_and_kwargs\n    triangulation = Triangulation(x, y, triangles, mask)\n  File \"/home/ben/.julia/conda/3/lib/python3.7/site-packages/matplotlib/tri/triangulation.py\", line 55, in __init__\n    self.triangles, self._neighbors = _qhull.delaunay(x, y)\n",
      "",
      "Stacktrace:",
      " [1] pyerr_check at /home/ben/.julia/packages/PyCall/RQjD7/src/exception.jl:60 [inlined]",
      " [2] pyerr_check at /home/ben/.julia/packages/PyCall/RQjD7/src/exception.jl:64 [inlined]",
      " [3] macro expansion at /home/ben/.julia/packages/PyCall/RQjD7/src/exception.jl:84 [inlined]",
      " [4] __pycall!(::PyCall.PyObject, ::Ptr{PyCall.PyObject_struct}, ::PyCall.PyObject, ::Ptr{Nothing}) at /home/ben/.julia/packages/PyCall/RQjD7/src/pyfncall.jl:44",
      " [5] _pycall!(::PyCall.PyObject, ::PyCall.PyObject, ::Tuple{StepRangeLen{Float64,Base.TwicePrecision{Float64},Base.TwicePrecision{Float64}},StepRangeLen{Float64,Base.TwicePrecision{Float64},Base.TwicePrecision{Float64}},Array{Float64,1}}, ::Int64, ::Ptr{Nothing}) at /home/ben/.julia/packages/PyCall/RQjD7/src/pyfncall.jl:29",
      " [6] _pycall!(::PyCall.PyObject, ::PyCall.PyObject, ::Tuple{StepRangeLen{Float64,Base.TwicePrecision{Float64},Base.TwicePrecision{Float64}},StepRangeLen{Float64,Base.TwicePrecision{Float64},Base.TwicePrecision{Float64}},Array{Float64,1}}, ::Base.Iterators.Pairs{Union{},Union{},Tuple{},NamedTuple{(),Tuple{}}}) at /home/ben/.julia/packages/PyCall/RQjD7/src/pyfncall.jl:11",
      " [7] #pycall#100(::Base.Iterators.Pairs{Union{},Union{},Tuple{},NamedTuple{(),Tuple{}}}, ::Function, ::PyCall.PyObject, ::Type{PyCall.PyAny}, ::StepRangeLen{Float64,Base.TwicePrecision{Float64},Base.TwicePrecision{Float64}}, ::Vararg{Any,N} where N) at /home/ben/.julia/packages/PyCall/RQjD7/src/pyfncall.jl:86",
      " [8] pycall(::PyCall.PyObject, ::Type{PyCall.PyAny}, ::StepRangeLen{Float64,Base.TwicePrecision{Float64},Base.TwicePrecision{Float64}}, ::Vararg{Any,N} where N) at /home/ben/.julia/packages/PyCall/RQjD7/src/pyfncall.jl:86",
      " [9] #plot_trisurf#174(::Base.Iterators.Pairs{Union{},Union{},Tuple{},NamedTuple{(),Tuple{}}}, ::Function, ::StepRangeLen{Float64,Base.TwicePrecision{Float64},Base.TwicePrecision{Float64}}, ::Vararg{Any,N} where N) at /home/ben/.julia/packages/PyPlot/KRYZs/src/plot3d.jl:50",
      " [10] plot_trisurf at /home/ben/.julia/packages/PyPlot/KRYZs/src/plot3d.jl:48 [inlined]",
      " [11] #surf#186 at /home/ben/.julia/packages/PyPlot/KRYZs/src/plot3d.jl:82 [inlined]",
      " [12] surf(::StepRangeLen{Float64,Base.TwicePrecision{Float64},Base.TwicePrecision{Float64}}, ::StepRangeLen{Float64,Base.TwicePrecision{Float64},Base.TwicePrecision{Float64}}, ::Array{Float64,1}) at /home/ben/.julia/packages/PyPlot/KRYZs/src/plot3d.jl:82",
      " [13] top-level scope at In[169]:4"
     ]
    }
   ],
   "source": [
    "x = range(0.2,stop=1.0,length=50)\n",
    "y = range(0.5,stop=80,length=50)\n",
    "z = [i^(2.0) for i in x]\n",
    "surf(x,y,z)"
   ]
  }
 ],
 "metadata": {
  "kernelspec": {
   "display_name": "Julia 1.1.0",
   "language": "julia",
   "name": "julia-1.1"
  },
  "language_info": {
   "file_extension": ".jl",
   "mimetype": "application/julia",
   "name": "julia",
   "version": "1.1.0"
  }
 },
 "nbformat": 4,
 "nbformat_minor": 2
}
