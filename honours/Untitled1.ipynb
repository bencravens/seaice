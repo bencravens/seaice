{
 "cells": [
  {
   "cell_type": "code",
   "execution_count": 12,
   "metadata": {},
   "outputs": [],
   "source": [
    "import math\n",
    "import numpy as np\n",
    "import matplotlib.pyplot as plt\n",
    "import sympy\n",
    "from sympy import sin,cos\n",
    "from sympy import init_printing\n",
    "init_printing(use_latex=True)\n",
    "from sympy.utilities.lambdify import lambdify "
   ]
  },
  {
   "cell_type": "code",
   "execution_count": 29,
   "metadata": {},
   "outputs": [
    {
     "data": {
      "image/png": "[encoded data removed]",
      "text/latex": [
       "$$- \\frac{c t^{2}}{s \\sqrt{c^{2} t^{2} - s^{2}}}$$"
      ],
      "text/plain": [
       "        2  2      \n",
       "    -c⋅s ⋅t       \n",
       "──────────────────\n",
       "      ____________\n",
       " 3   ╱  2  2    2 \n",
       "s ⋅╲╱  c ⋅t  - s  "
      ]
     },
     "execution_count": 29,
     "metadata": {},
     "output_type": "execute_result"
    }
   ],
   "source": [
    "t = sympy.symbols('t',positive=True,real=True)\n",
    "c = sympy.symbols('c',positive=True,real=True)\n",
    "s = sympy.symbols('s',positive=True,real=True)\n",
    "A1 = t*s/(sympy.sqrt((c*t)**2 - s**2) + c*t)\n",
    "A2 = -1/(sympy.sqrt((c*t)**2 - s**2))\n",
    "A3 = -(sympy.sqrt((c*t)**2 - s**2) +c*t)/(s**2)\n",
    "sympy.radsimp(A1*(A2 + A3))"
   ]
  },
  {
   "cell_type": "code",
   "execution_count": null,
   "metadata": {},
   "outputs": [],
   "source": []
  }
 ],
 "metadata": {
  "kernelspec": {
   "display_name": "Python 3",
   "language": "python",
   "name": "python3"
  },
  "language_info": {
   "codemirror_mode": {
    "name": "ipython",
    "version": 3
   },
   "file_extension": ".py",
   "mimetype": "text/x-python",
   "name": "python",
   "nbconvert_exporter": "python",
   "pygments_lexer": "ipython3",
   "version": "3.5.2"
  }
 },
 "nbformat": 4,
 "nbformat_minor": 2
}
